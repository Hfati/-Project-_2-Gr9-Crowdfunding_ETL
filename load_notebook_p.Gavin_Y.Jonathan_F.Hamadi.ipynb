{
 "cells": [
  {
   "cell_type": "code",
   "execution_count": 1,
   "id": "b1c7d34a-af55-4697-8e96-4115111c9322",
   "metadata": {},
   "outputs": [],
   "source": [
    "# for database connections\n",
    "import sqlalchemy\n",
    "from sqlalchemy import create_engine, inspect, text\n",
    "\n",
    "# data\n",
    "import pandas as pd"
   ]
  },
  {
   "cell_type": "code",
   "execution_count": 2,
   "id": "4c4fa1bd-18d2-4a70-86d9-24fa34e4c51a",
   "metadata": {},
   "outputs": [],
   "source": [
    "SQL_USERNAME = 'postgres'\n",
    "SQL_PASSWORD = 'postgres'\n",
    "SQL_IP = 'localhost'\n",
    "PORT = 5432\n",
    "DATABASE = 'project_2_db'"
   ]
  },
  {
   "cell_type": "code",
   "execution_count": 3,
   "id": "6ff05830-f82b-4ab3-9baf-8eaa397c4c4f",
   "metadata": {},
   "outputs": [],
   "source": [
    "connection_string = f\"postgresql+psycopg2://{SQL_USERNAME}:{SQL_PASSWORD}@{SQL_IP}:{PORT}/{DATABASE}\"\n",
    "engine = create_engine(connection_string)"
   ]
  },
  {
   "cell_type": "code",
   "execution_count": 4,
   "id": "8b7350e9-adbd-4cb4-b278-68c8c1c3f73a",
   "metadata": {},
   "outputs": [],
   "source": [
    "campaign_df = pd.read_csv('Resources/campaign.csv')\n",
    "contacts_df = pd.read_csv('Resources/contacts.csv')\n",
    "category_df = pd.read_csv('Resources/category.csv')\n",
    "subcategory_df = pd.read_csv('Resources/subcategory.csv')"
   ]
  },
  {
   "cell_type": "code",
   "execution_count": 5,
   "id": "8a9cec85-7b34-4d60-89e0-11da76a309dd",
   "metadata": {},
   "outputs": [
    {
     "data": {
      "text/plain": [
       "1000"
      ]
     },
     "execution_count": 5,
     "metadata": {},
     "output_type": "execute_result"
    }
   ],
   "source": [
    "contacts_df.to_sql(\"contacts\", schema=\"public\", con=engine, index=False, if_exists=\"append\", method=\"multi\")"
   ]
  },
  {
   "cell_type": "code",
   "execution_count": 6,
   "id": "4cf1eb6a-d0d9-4240-a1cd-0f82a7898420",
   "metadata": {},
   "outputs": [
    {
     "data": {
      "text/plain": [
       "9"
      ]
     },
     "execution_count": 6,
     "metadata": {},
     "output_type": "execute_result"
    }
   ],
   "source": [
    "category_df.to_sql(\"category\", schema=\"public\", con=engine, index=False, if_exists=\"append\", method=\"multi\")"
   ]
  },
  {
   "cell_type": "code",
   "execution_count": 7,
   "id": "92d07425-573d-42f1-b8c0-b3586e9938c5",
   "metadata": {},
   "outputs": [
    {
     "data": {
      "text/plain": [
       "24"
      ]
     },
     "execution_count": 7,
     "metadata": {},
     "output_type": "execute_result"
    }
   ],
   "source": [
    "subcategory_df.to_sql('subcategory', schema=\"public\", con=engine, index=False, if_exists=\"append\", method=\"multi\")"
   ]
  },
  {
   "cell_type": "code",
   "execution_count": 8,
   "id": "7c887c83-512e-4be1-84fb-b9b502f4e6b2",
   "metadata": {},
   "outputs": [
    {
     "data": {
      "text/plain": [
       "1000"
      ]
     },
     "execution_count": 8,
     "metadata": {},
     "output_type": "execute_result"
    }
   ],
   "source": [
    "campaign_df.to_sql(\"campaign\", schema=\"public\", con=engine, index=False, if_exists=\"append\", method=\"multi\")"
   ]
  },
  {
   "cell_type": "code",
   "execution_count": null,
   "id": "96bbb417-4a5b-4170-b20c-718b843b9082",
   "metadata": {},
   "outputs": [],
   "source": []
  }
 ],
 "metadata": {
  "kernelspec": {
   "display_name": "Python 3 (ipykernel)",
   "language": "python",
   "name": "python3"
  },
  "language_info": {
   "codemirror_mode": {
    "name": "ipython",
    "version": 3
   },
   "file_extension": ".py",
   "mimetype": "text/x-python",
   "name": "python",
   "nbconvert_exporter": "python",
   "pygments_lexer": "ipython3",
   "version": "3.10.14"
  }
 },
 "nbformat": 4,
 "nbformat_minor": 5
}
